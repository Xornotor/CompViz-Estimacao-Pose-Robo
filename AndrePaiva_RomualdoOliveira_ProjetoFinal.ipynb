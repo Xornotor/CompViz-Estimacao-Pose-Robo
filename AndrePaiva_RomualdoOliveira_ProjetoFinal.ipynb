{
 "cells": [
  {
   "cell_type": "markdown",
   "metadata": {},
   "source": [
    "# **Projeto Final - Estimação da Pose de um Robô Móvel**\n",
    "\n",
    "**Alunos:** André Paiva Conrado Rodrigues, Romualdo Oliveira Santos Filho\n",
    "\n",
    "**Matéria:** ENGG64 - Visão Computacional - 2023.2"
   ]
  },
  {
   "cell_type": "markdown",
   "metadata": {},
   "source": [
    "## 1 - Importação de dependências e configurações"
   ]
  },
  {
   "cell_type": "code",
   "execution_count": 1,
   "metadata": {},
   "outputs": [],
   "source": [
    "import numpy as np\n",
    "import cv2 as cv\n",
    "import matplotlib as mpl\n",
    "from matplotlib import pyplot as plt"
   ]
  },
  {
   "cell_type": "markdown",
   "metadata": {},
   "source": [
    "## 2 - Funções de processamento do vídeo"
   ]
  },
  {
   "cell_type": "code",
   "execution_count": 2,
   "metadata": {},
   "outputs": [],
   "source": [
    "def extract_frames(filename):\n",
    "\n",
    "    \"\"\"Extrai os frames do vídeo.\"\"\"\n",
    "    \n",
    "    frames = []\n",
    "    video_capture = cv.VideoCapture(filename)\n",
    "    while True:\n",
    "        ret, frame = video_capture.read()\n",
    "        if ret:\n",
    "            frames.append(cv.cvtColor(frame, cv.COLOR_BGR2RGB))\n",
    "        else:\n",
    "            break\n",
    "    video_capture.release()\n",
    "    return frames"
   ]
  },
  {
   "cell_type": "code",
   "execution_count": 3,
   "metadata": {},
   "outputs": [],
   "source": [
    "def gaussian_blur(frames):\n",
    "\n",
    "    \"\"\"Aplica desfoque gaussiano em uma\n",
    "    sequência de frames.\"\"\"\n",
    "    \n",
    "    proc_frames = []\n",
    "    for frame in frames:\n",
    "        proc_frame = cv.GaussianBlur(frame, (5, 5), 0)\n",
    "        proc_frames.append(proc_frame)\n",
    "    return proc_frames"
   ]
  },
  {
   "cell_type": "code",
   "execution_count": 4,
   "metadata": {},
   "outputs": [],
   "source": [
    "def color_mask(frames):\n",
    "\n",
    "    \"\"\"Segmenta elementos de uma sequência de\n",
    "    frames com tonalidades próximas do vermelho.\n",
    "    Retorna uma imagem binária.\"\"\"\n",
    "\n",
    "    proc_frames = []\n",
    "    for frame in frames:\n",
    "        mask1 = cv.inRange(cv.cvtColor(frame, cv.COLOR_RGB2HSV), (0, 120, 40), (20, 220, 125))\n",
    "        mask2 = cv.inRange(cv.cvtColor(frame, cv.COLOR_RGB2HSV), (165, 120, 40), (180, 220, 125))\n",
    "        mask = cv.bitwise_or(mask1, mask2)\n",
    "        proc_frames.append(mask)\n",
    "    return proc_frames"
   ]
  },
  {
   "cell_type": "code",
   "execution_count": 5,
   "metadata": {},
   "outputs": [],
   "source": [
    "def erode_and_dilate(frames):\n",
    "\n",
    "    \"\"\"Erosão e dilatação em imagem binária.\"\"\"\n",
    "\n",
    "    proc_frames = []\n",
    "    kernel_open1 = cv.getStructuringElement(cv.MORPH_ELLIPSE, (5, 5))\n",
    "    kernel_close = cv.getStructuringElement(cv.MORPH_ELLIPSE, (45, 45))\n",
    "    kernel_open2 = cv.getStructuringElement(cv.MORPH_ELLIPSE, (7, 7))\n",
    "    for frame in frames: \n",
    "        proc_frame = cv.morphologyEx(frame, cv.MORPH_OPEN, kernel_open1)\n",
    "        proc_frame = cv.morphologyEx(proc_frame, cv.MORPH_CLOSE, kernel_close)\n",
    "        proc_frame = cv.morphologyEx(proc_frame, cv.MORPH_OPEN, kernel_open2)\n",
    "        proc_frames.append(proc_frame)\n",
    "        \n",
    "    return proc_frames"
   ]
  },
  {
   "cell_type": "code",
   "execution_count": 6,
   "metadata": {},
   "outputs": [],
   "source": [
    "def blob_extractor(frames):\n",
    "\n",
    "    \"\"\"Extrai blobs da imagem, os quais devem\n",
    "    corresponder a limites de área e perímetro\n",
    "    estabelecidos.\"\"\"\n",
    "\n",
    "    proc_frames = []\n",
    "    for frame in frames:\n",
    "        proc_frame = np.zeros(frame.shape, dtype=np.uint8)\n",
    "        contours, hierarchy = cv.findContours(frame, cv.RETR_TREE, cv.CHAIN_APPROX_SIMPLE)\n",
    "        for i, cnt in enumerate(contours):\n",
    "            if(cv.contourArea(cnt) >= 70 and \\\n",
    "               cv.contourArea(cnt) <= 8000 and \\\n",
    "               cv.arcLength(cnt, True) >= 80):\n",
    "                cv.drawContours(proc_frame, [cnt], 0, (255), -1)\n",
    "        proc_frames.append(proc_frame)\n",
    "    return proc_frames"
   ]
  },
  {
   "cell_type": "code",
   "execution_count": 7,
   "metadata": {},
   "outputs": [],
   "source": [
    "def centroid(frames):\n",
    "    \n",
    "    \"\"\"Extrai os centroides dos blobs da imagem\"\"\"\n",
    "\n",
    "    centroids = []\n",
    "    for frame in frames:        \n",
    "        M = cv.moments(frame)        \n",
    "        cX = int(M[\"m10\"] / M[\"m00\"])\n",
    "        cY = int(M[\"m01\"] / M[\"m00\"])\n",
    "        centroids.append([cX,cY])        \n",
    "    return centroids"
   ]
  },
  {
   "cell_type": "code",
   "execution_count": 8,
   "metadata": {},
   "outputs": [],
   "source": [
    "def ellipse(frames):\n",
    "    \n",
    "    \"\"\"Extrai as elipses equivalentes dos blobs da imagem\"\"\"\n",
    "\n",
    "    ellipses = []\n",
    "    for frame in frames:                \n",
    "        contours,hierarchy = cv.findContours(frame, cv.RETR_TREE,cv.CHAIN_APPROX_SIMPLE)        \n",
    "        cnt = contours[0]        \n",
    "        ellipse = cv.fitEllipse(cnt)\n",
    "        ellipses.append(ellipse)            \n",
    "    return ellipses"
   ]
  },
  {
   "cell_type": "code",
   "execution_count": 9,
   "metadata": {},
   "outputs": [],
   "source": [
    "def uv_plot(list_centroids):\n",
    "    # FUNÇÃO PARA PLOT DE (U, V) x T\n",
    "    # IMPLEMENTAR\n",
    "    pass"
   ]
  },
  {
   "cell_type": "code",
   "execution_count": 10,
   "metadata": {},
   "outputs": [],
   "source": [
    "def theta_plot(list_ellipses):\n",
    "    # FUNÇÃO PARA PLOT DE ORIENTAÇÃO x T\n",
    "    # IMPLEMENTAR\n",
    "    pass"
   ]
  },
  {
   "cell_type": "code",
   "execution_count": 11,
   "metadata": {},
   "outputs": [],
   "source": [
    "def path_plot(list_centroids):\n",
    "    # FUNÇÃO PARA PLOT DE TRAJETÓRIA NO PLANO DA IMAGEM\n",
    "    # IMPLEMENTAR\n",
    "    pass"
   ]
  },
  {
   "cell_type": "code",
   "execution_count": 12,
   "metadata": {},
   "outputs": [],
   "source": [
    "def composite_plot(frames,\n",
    "                   list_centroids,\n",
    "                   list_ellipses):\n",
    "    # FUNÇÃO PARA PLOT COMPOSTO\n",
    "    # IMPLEMENTAR\n",
    "    pass"
   ]
  },
  {
   "cell_type": "code",
   "execution_count": 13,
   "metadata": {},
   "outputs": [],
   "source": [
    "def write_video(frames, filename='output'):\n",
    "\n",
    "    \"\"\"Grava uma sequência de frames em um\n",
    "    arquivo de vídeo.\"\"\"\n",
    "\n",
    "    out = cv.VideoWriter('output/' + filename + '.avi',\n",
    "                         cv.VideoWriter_fourcc(*'MJPG'),\n",
    "                         30,\n",
    "                         (frames[0].shape[1], frames[0].shape[0]))\n",
    "    if len(frames[0].shape) == 2:\n",
    "        conversion = cv.COLOR_GRAY2BGR\n",
    "    else:\n",
    "        conversion = cv.COLOR_RGB2BGR\n",
    "    for frame in frames:\n",
    "        out.write(cv.cvtColor(frame, conversion))\n",
    "    out.release()"
   ]
  },
  {
   "cell_type": "code",
   "execution_count": 14,
   "metadata": {},
   "outputs": [],
   "source": [
    "def full_processing(filename):\n",
    "\n",
    "    # FUNÇÃO PARCIALMENTE IMPLEMENTADA\n",
    "\n",
    "    \"\"\"Efetua todos os passos de processamento\n",
    "    em um determinado arquivo de vídeo, gerando\n",
    "    representações intermediárias e gráficos\n",
    "    do processamento.\"\"\"\n",
    "\n",
    "\n",
    "    name = filename.split('/')[-1].split('.')[0]\n",
    "    frames = extract_frames(filename)\n",
    "    gaussian_frames = gaussian_blur(frames)\n",
    "    color_seg = color_mask(gaussian_frames)\n",
    "    eroded_and_dilated = erode_and_dilate(color_seg)\n",
    "    blobbed = blob_extractor(eroded_and_dilated)\n",
    "    centroids = centroid(blobbed)\n",
    "    ellipses = ellipse(blobbed)\n",
    "\n",
    "    write_video(gaussian_frames, name + '-01-GaussianBlur')\n",
    "    write_video(color_seg, name + '-02-ColorSegmentation')\n",
    "    write_video(eroded_and_dilated, name + '-03-ErosionAndDilation')\n",
    "    write_video(blobbed, name + '-04-BlobExtraction')\n"
   ]
  },
  {
   "cell_type": "markdown",
   "metadata": {},
   "source": [
    "## 3 - Aplicação das funções"
   ]
  },
  {
   "cell_type": "markdown",
   "metadata": {},
   "source": [
    "### 3.1 - Vídeo 1"
   ]
  },
  {
   "cell_type": "code",
   "execution_count": 15,
   "metadata": {},
   "outputs": [],
   "source": [
    "full_processing(\"images/Video1_husky.mp4\")"
   ]
  },
  {
   "cell_type": "markdown",
   "metadata": {},
   "source": [
    "### 3.2 - Vídeo 2"
   ]
  },
  {
   "cell_type": "code",
   "execution_count": null,
   "metadata": {},
   "outputs": [
    {
     "ename": "KeyboardInterrupt",
     "evalue": "",
     "output_type": "error",
     "traceback": [
      "\u001b[1;31m---------------------------------------------------------------------------\u001b[0m",
      "\u001b[1;31mKeyboardInterrupt\u001b[0m                         Traceback (most recent call last)",
      "\u001b[1;32mc:\\Users\\romua\\OneDrive\\Área de Trabalho\\visão_computacional\\trabalho\\CompViz-Estimacao-Pose-Robo\\AndrePaiva_RomualdoOliveira_ProjetoFinal.ipynb Cell 22\u001b[0m line \u001b[0;36m1\n\u001b[1;32m----> <a href='vscode-notebook-cell:/c%3A/Users/romua/OneDrive/%C3%81rea%20de%20Trabalho/vis%C3%A3o_computacional/trabalho/CompViz-Estimacao-Pose-Robo/AndrePaiva_RomualdoOliveira_ProjetoFinal.ipynb#X30sZmlsZQ%3D%3D?line=0'>1</a>\u001b[0m full_processing(\u001b[39m\"\u001b[39;49m\u001b[39mimages/video2_husky.mp4\u001b[39;49m\u001b[39m\"\u001b[39;49m)\n",
      "\u001b[1;32mc:\\Users\\romua\\OneDrive\\Área de Trabalho\\visão_computacional\\trabalho\\CompViz-Estimacao-Pose-Robo\\AndrePaiva_RomualdoOliveira_ProjetoFinal.ipynb Cell 22\u001b[0m line \u001b[0;36m1\n\u001b[0;32m      <a href='vscode-notebook-cell:/c%3A/Users/romua/OneDrive/%C3%81rea%20de%20Trabalho/vis%C3%A3o_computacional/trabalho/CompViz-Estimacao-Pose-Robo/AndrePaiva_RomualdoOliveira_ProjetoFinal.ipynb#X30sZmlsZQ%3D%3D?line=4'>5</a>\u001b[0m \u001b[39m\u001b[39m\u001b[39m\"\"\"Efetua todos os passos de processamento\u001b[39;00m\n\u001b[0;32m      <a href='vscode-notebook-cell:/c%3A/Users/romua/OneDrive/%C3%81rea%20de%20Trabalho/vis%C3%A3o_computacional/trabalho/CompViz-Estimacao-Pose-Robo/AndrePaiva_RomualdoOliveira_ProjetoFinal.ipynb#X30sZmlsZQ%3D%3D?line=5'>6</a>\u001b[0m \u001b[39mem um determinado arquivo de vídeo, gerando\u001b[39;00m\n\u001b[0;32m      <a href='vscode-notebook-cell:/c%3A/Users/romua/OneDrive/%C3%81rea%20de%20Trabalho/vis%C3%A3o_computacional/trabalho/CompViz-Estimacao-Pose-Robo/AndrePaiva_RomualdoOliveira_ProjetoFinal.ipynb#X30sZmlsZQ%3D%3D?line=6'>7</a>\u001b[0m \u001b[39mrepresentações intermediárias e gráficos\u001b[39;00m\n\u001b[0;32m      <a href='vscode-notebook-cell:/c%3A/Users/romua/OneDrive/%C3%81rea%20de%20Trabalho/vis%C3%A3o_computacional/trabalho/CompViz-Estimacao-Pose-Robo/AndrePaiva_RomualdoOliveira_ProjetoFinal.ipynb#X30sZmlsZQ%3D%3D?line=7'>8</a>\u001b[0m \u001b[39mdo processamento.\"\"\"\u001b[39;00m\n\u001b[0;32m     <a href='vscode-notebook-cell:/c%3A/Users/romua/OneDrive/%C3%81rea%20de%20Trabalho/vis%C3%A3o_computacional/trabalho/CompViz-Estimacao-Pose-Robo/AndrePaiva_RomualdoOliveira_ProjetoFinal.ipynb#X30sZmlsZQ%3D%3D?line=10'>11</a>\u001b[0m name \u001b[39m=\u001b[39m filename\u001b[39m.\u001b[39msplit(\u001b[39m'\u001b[39m\u001b[39m/\u001b[39m\u001b[39m'\u001b[39m)[\u001b[39m-\u001b[39m\u001b[39m1\u001b[39m]\u001b[39m.\u001b[39msplit(\u001b[39m'\u001b[39m\u001b[39m.\u001b[39m\u001b[39m'\u001b[39m)[\u001b[39m0\u001b[39m]\n\u001b[1;32m---> <a href='vscode-notebook-cell:/c%3A/Users/romua/OneDrive/%C3%81rea%20de%20Trabalho/vis%C3%A3o_computacional/trabalho/CompViz-Estimacao-Pose-Robo/AndrePaiva_RomualdoOliveira_ProjetoFinal.ipynb#X30sZmlsZQ%3D%3D?line=11'>12</a>\u001b[0m frames \u001b[39m=\u001b[39m extract_frames(filename)\n\u001b[0;32m     <a href='vscode-notebook-cell:/c%3A/Users/romua/OneDrive/%C3%81rea%20de%20Trabalho/vis%C3%A3o_computacional/trabalho/CompViz-Estimacao-Pose-Robo/AndrePaiva_RomualdoOliveira_ProjetoFinal.ipynb#X30sZmlsZQ%3D%3D?line=12'>13</a>\u001b[0m gaussian_frames \u001b[39m=\u001b[39m gaussian_blur(frames)\n\u001b[0;32m     <a href='vscode-notebook-cell:/c%3A/Users/romua/OneDrive/%C3%81rea%20de%20Trabalho/vis%C3%A3o_computacional/trabalho/CompViz-Estimacao-Pose-Robo/AndrePaiva_RomualdoOliveira_ProjetoFinal.ipynb#X30sZmlsZQ%3D%3D?line=13'>14</a>\u001b[0m color_seg \u001b[39m=\u001b[39m color_mask(gaussian_frames)\n",
      "\u001b[1;32mc:\\Users\\romua\\OneDrive\\Área de Trabalho\\visão_computacional\\trabalho\\CompViz-Estimacao-Pose-Robo\\AndrePaiva_RomualdoOliveira_ProjetoFinal.ipynb Cell 22\u001b[0m line \u001b[0;36m8\n\u001b[0;32m      <a href='vscode-notebook-cell:/c%3A/Users/romua/OneDrive/%C3%81rea%20de%20Trabalho/vis%C3%A3o_computacional/trabalho/CompViz-Estimacao-Pose-Robo/AndrePaiva_RomualdoOliveira_ProjetoFinal.ipynb#X30sZmlsZQ%3D%3D?line=5'>6</a>\u001b[0m video_capture \u001b[39m=\u001b[39m cv\u001b[39m.\u001b[39mVideoCapture(filename)\n\u001b[0;32m      <a href='vscode-notebook-cell:/c%3A/Users/romua/OneDrive/%C3%81rea%20de%20Trabalho/vis%C3%A3o_computacional/trabalho/CompViz-Estimacao-Pose-Robo/AndrePaiva_RomualdoOliveira_ProjetoFinal.ipynb#X30sZmlsZQ%3D%3D?line=6'>7</a>\u001b[0m \u001b[39mwhile\u001b[39;00m \u001b[39mTrue\u001b[39;00m:\n\u001b[1;32m----> <a href='vscode-notebook-cell:/c%3A/Users/romua/OneDrive/%C3%81rea%20de%20Trabalho/vis%C3%A3o_computacional/trabalho/CompViz-Estimacao-Pose-Robo/AndrePaiva_RomualdoOliveira_ProjetoFinal.ipynb#X30sZmlsZQ%3D%3D?line=7'>8</a>\u001b[0m     ret, frame \u001b[39m=\u001b[39m video_capture\u001b[39m.\u001b[39;49mread()\n\u001b[0;32m      <a href='vscode-notebook-cell:/c%3A/Users/romua/OneDrive/%C3%81rea%20de%20Trabalho/vis%C3%A3o_computacional/trabalho/CompViz-Estimacao-Pose-Robo/AndrePaiva_RomualdoOliveira_ProjetoFinal.ipynb#X30sZmlsZQ%3D%3D?line=8'>9</a>\u001b[0m     \u001b[39mif\u001b[39;00m ret:\n\u001b[0;32m     <a href='vscode-notebook-cell:/c%3A/Users/romua/OneDrive/%C3%81rea%20de%20Trabalho/vis%C3%A3o_computacional/trabalho/CompViz-Estimacao-Pose-Robo/AndrePaiva_RomualdoOliveira_ProjetoFinal.ipynb#X30sZmlsZQ%3D%3D?line=9'>10</a>\u001b[0m         frames\u001b[39m.\u001b[39mappend(cv\u001b[39m.\u001b[39mcvtColor(frame, cv\u001b[39m.\u001b[39mCOLOR_BGR2RGB))\n",
      "\u001b[1;31mKeyboardInterrupt\u001b[0m: "
     ]
    }
   ],
   "source": [
    "full_processing(\"images/video2_husky.mp4\")"
   ]
  }
 ],
 "metadata": {
  "kernelspec": {
   "display_name": "RVC3",
   "language": "python",
   "name": "python3"
  },
  "language_info": {
   "codemirror_mode": {
    "name": "ipython",
    "version": 3
   },
   "file_extension": ".py",
   "mimetype": "text/x-python",
   "name": "python",
   "nbconvert_exporter": "python",
   "pygments_lexer": "ipython3",
   "version": "3.11.3"
  }
 },
 "nbformat": 4,
 "nbformat_minor": 2
}
