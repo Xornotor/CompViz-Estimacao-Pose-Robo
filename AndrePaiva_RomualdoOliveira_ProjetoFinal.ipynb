{
 "cells": [
  {
   "cell_type": "markdown",
   "metadata": {},
   "source": [
    "# **Projeto Final - Estimação da Pose de um Robô Móvel**\n",
    "\n",
    "**Alunos:** André Paiva Conrado Rodrigues, Romualdo Oliveira Santos Filho\n",
    "\n",
    "**Matéria:** ENGG64 - Visão Computacional - 2023.2"
   ]
  },
  {
   "cell_type": "markdown",
   "metadata": {},
   "source": [
    "## 1 - Importação de dependências e configurações"
   ]
  },
  {
   "cell_type": "code",
   "execution_count": 1,
   "metadata": {},
   "outputs": [],
   "source": [
    "import numpy as np\n",
    "import cv2 as cv\n",
    "import matplotlib as mpl\n",
    "from matplotlib import pyplot as plt"
   ]
  },
  {
   "cell_type": "markdown",
   "metadata": {},
   "source": [
    "## 2 - Funções de processamento do vídeo"
   ]
  },
  {
   "cell_type": "code",
   "execution_count": 2,
   "metadata": {},
   "outputs": [],
   "source": [
    "def extract_frames(video_capture):\n",
    "    frames = []\n",
    "    while True:\n",
    "        ret, frame = video_capture.read()\n",
    "        if ret:\n",
    "            frames.append(cv.cvtColor(frame, cv.COLOR_BGR2RGB))\n",
    "        else:\n",
    "            break\n",
    "    return frames"
   ]
  },
  {
   "cell_type": "code",
   "execution_count": 3,
   "metadata": {},
   "outputs": [],
   "source": [
    "def gaussian_blur(frames):\n",
    "    proc_frames = []\n",
    "    for frame in frames:\n",
    "        proc_frame = cv.GaussianBlur(frame, (5, 5), 0)\n",
    "        proc_frames.append(proc_frame)\n",
    "    return proc_frames"
   ]
  },
  {
   "cell_type": "code",
   "execution_count": 4,
   "metadata": {},
   "outputs": [],
   "source": [
    "def color_mask(frames):\n",
    "    proc_frames = []\n",
    "    for frame in frames:\n",
    "        mask1 = cv.inRange(cv.cvtColor(frame, cv.COLOR_RGB2HSV), (0, 120, 40), (20, 220, 125))\n",
    "        mask2 = cv.inRange(cv.cvtColor(frame, cv.COLOR_RGB2HSV), (165, 120, 40), (180, 220, 125))\n",
    "        mask = cv.bitwise_or(mask1, mask2)\n",
    "        proc_frames.append(mask)\n",
    "    return proc_frames"
   ]
  },
  {
   "cell_type": "code",
   "execution_count": 5,
   "metadata": {},
   "outputs": [],
   "source": [
    "def erode_and_dilate(frames):\n",
    "    proc_frames = []\n",
    "    kernel_open1 = cv.getStructuringElement(cv.MORPH_ELLIPSE, (5, 5))\n",
    "    kernel_close = cv.getStructuringElement(cv.MORPH_ELLIPSE, (45, 45))\n",
    "    kernel_open2 = cv.getStructuringElement(cv.MORPH_ELLIPSE, (7, 7))\n",
    "    for frame in frames: \n",
    "        proc_frame = cv.morphologyEx(frame, cv.MORPH_OPEN, kernel_open1)\n",
    "        proc_frame = cv.morphologyEx(proc_frame, cv.MORPH_CLOSE, kernel_close)\n",
    "        proc_frame = cv.morphologyEx(proc_frame, cv.MORPH_OPEN, kernel_open2)\n",
    "        proc_frames.append(proc_frame)\n",
    "        \n",
    "    return proc_frames"
   ]
  },
  {
   "cell_type": "code",
   "execution_count": 6,
   "metadata": {},
   "outputs": [],
   "source": [
    "def blob_extractor(frames):\n",
    "    proc_frames = []\n",
    "    for frame in frames:\n",
    "        proc_frame = np.zeros(frame.shape, dtype=np.uint8)\n",
    "        contours, hierarchy = cv.findContours(frame, cv.RETR_TREE, cv.CHAIN_APPROX_SIMPLE)\n",
    "        for i, cnt in enumerate(contours):\n",
    "            if(cv.contourArea(cnt) >= 70 and \\\n",
    "               cv.contourArea(cnt) <= 8000 and \\\n",
    "               cv.arcLength(cnt, True) >= 80):\n",
    "                cv.drawContours(proc_frame, [cnt], 0, (255), -1)\n",
    "        proc_frames.append(proc_frame)\n",
    "    return proc_frames"
   ]
  },
  {
   "cell_type": "code",
   "execution_count": 7,
   "metadata": {},
   "outputs": [],
   "source": [
    "video_cap = cv.VideoCapture('images/Video1_husky.mp4')\n",
    "frames = extract_frames(video_cap)\n",
    "video_cap.release()\n",
    "gaussian_frames = gaussian_blur(frames)\n",
    "color_seg = color_mask(gaussian_frames)\n",
    "eroded_and_dilated = erode_and_dilate(color_seg)\n",
    "blobbed = blob_extractor(eroded_and_dilated)"
   ]
  },
  {
   "cell_type": "code",
   "execution_count": 8,
   "metadata": {},
   "outputs": [
    {
     "data": {
      "text/plain": [
       "<matplotlib.image.AxesImage at 0x7f185b7640d0>"
      ]
     },
     "execution_count": 8,
     "metadata": {},
     "output_type": "execute_result"
    },
    {
     "data": {
      "image/png": "[encoded data removed]",
      "text/plain": [
       "<Figure size 640x480 with 1 Axes>"
      ]
     },
     "metadata": {},
     "output_type": "display_data"
    }
   ],
   "source": [
    "plt.imshow(blobbed[700])"
   ]
  }
 ],
 "metadata": {
  "kernelspec": {
   "display_name": "RVC3",
   "language": "python",
   "name": "python3"
  },
  "language_info": {
   "codemirror_mode": {
    "name": "ipython",
    "version": 3
   },
   "file_extension": ".py",
   "mimetype": "text/x-python",
   "name": "python",
   "nbconvert_exporter": "python",
   "pygments_lexer": "ipython3",
   "version": "3.10.13"
  }
 },
 "nbformat": 4,
 "nbformat_minor": 2
}
