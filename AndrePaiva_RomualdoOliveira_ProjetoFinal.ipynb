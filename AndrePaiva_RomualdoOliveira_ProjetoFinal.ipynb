{
 "cells": [
  {
   "cell_type": "markdown",
   "metadata": {},
   "source": [
    "# **Projeto Final - Estimação da Pose de um Robô Móvel**\n",
    "\n",
    "**Alunos:** André Paiva Conrado Rodrigues, Romualdo Oliveira Santos Filho\n",
    "\n",
    "**Matéria:** ENGG64 - Visão Computacional - 2023.2"
   ]
  },
  {
   "cell_type": "markdown",
   "metadata": {},
   "source": [
    "## 1 - Importação de dependências e configurações"
   ]
  },
  {
   "cell_type": "code",
   "execution_count": null,
   "metadata": {},
   "outputs": [],
   "source": [
    "import numpy as np\n",
    "import cv2 as cv\n",
    "import matplotlib as mpl\n",
    "from matplotlib import pyplot as plt"
   ]
  },
  {
   "cell_type": "markdown",
   "metadata": {},
   "source": [
    "## 2 - Funções de processamento do vídeo"
   ]
  },
  {
   "cell_type": "code",
   "execution_count": null,
   "metadata": {},
   "outputs": [],
   "source": [
    "def extract_frames(filename):\n",
    "\n",
    "    \"\"\"Extrai os frames do vídeo.\"\"\"\n",
    "    \n",
    "    frames = []\n",
    "    video_capture = cv.VideoCapture(filename)\n",
    "    while True:\n",
    "        ret, frame = video_capture.read()\n",
    "        if ret:\n",
    "            frames.append(cv.cvtColor(frame, cv.COLOR_BGR2RGB))\n",
    "        else:\n",
    "            break\n",
    "    video_capture.release()\n",
    "    return frames"
   ]
  },
  {
   "cell_type": "code",
   "execution_count": null,
   "metadata": {},
   "outputs": [],
   "source": [
    "def gaussian_blur(frames):\n",
    "\n",
    "    \"\"\"Aplica desfoque gaussiano em uma\n",
    "    sequência de frames.\"\"\"\n",
    "    \n",
    "    proc_frames = []\n",
    "    for frame in frames:\n",
    "        proc_frame = cv.GaussianBlur(frame, (5, 5), 0)\n",
    "        proc_frames.append(proc_frame)\n",
    "    return proc_frames"
   ]
  },
  {
   "cell_type": "code",
   "execution_count": null,
   "metadata": {},
   "outputs": [],
   "source": [
    "def color_mask(frames):\n",
    "\n",
    "    \"\"\"Segmenta elementos de uma sequência de\n",
    "    frames com tonalidades próximas do vermelho.\n",
    "    Retorna uma imagem binária.\"\"\"\n",
    "\n",
    "    proc_frames = []\n",
    "    for frame in frames:\n",
    "        mask1 = cv.inRange(cv.cvtColor(frame, cv.COLOR_RGB2HSV), (0, 120, 40), (20, 220, 125))\n",
    "        mask2 = cv.inRange(cv.cvtColor(frame, cv.COLOR_RGB2HSV), (165, 120, 40), (180, 220, 125))\n",
    "        mask = cv.bitwise_or(mask1, mask2)\n",
    "        proc_frames.append(mask)\n",
    "    return proc_frames"
   ]
  },
  {
   "cell_type": "code",
   "execution_count": null,
   "metadata": {},
   "outputs": [],
   "source": [
    "def erode_and_dilate(frames):\n",
    "\n",
    "    \"\"\"Erosão e dilatação em imagem binária.\"\"\"\n",
    "\n",
    "    proc_frames = []\n",
    "    kernel_open1 = cv.getStructuringElement(cv.MORPH_ELLIPSE, (5, 5))\n",
    "    kernel_close = cv.getStructuringElement(cv.MORPH_ELLIPSE, (45, 45))\n",
    "    kernel_open2 = cv.getStructuringElement(cv.MORPH_ELLIPSE, (7, 7))\n",
    "    for frame in frames: \n",
    "        proc_frame = cv.morphologyEx(frame, cv.MORPH_OPEN, kernel_open1)\n",
    "        proc_frame = cv.morphologyEx(proc_frame, cv.MORPH_CLOSE, kernel_close)\n",
    "        proc_frame = cv.morphologyEx(proc_frame, cv.MORPH_OPEN, kernel_open2)\n",
    "        proc_frames.append(proc_frame)\n",
    "        \n",
    "    return proc_frames"
   ]
  },
  {
   "cell_type": "code",
   "execution_count": null,
   "metadata": {},
   "outputs": [],
   "source": [
    "def blob_extractor(frames):\n",
    "\n",
    "    \"\"\"Extrai blobs da imagem, os quais devem\n",
    "    corresponder a limites de área e perímetro\n",
    "    estabelecidos.\"\"\"\n",
    "\n",
    "    proc_frames = []\n",
    "    for frame in frames:\n",
    "        proc_frame = np.zeros(frame.shape, dtype=np.uint8)\n",
    "        contours, hierarchy = cv.findContours(frame, cv.RETR_TREE, cv.CHAIN_APPROX_SIMPLE)\n",
    "        for i, cnt in enumerate(contours):\n",
    "            if(cv.contourArea(cnt) >= 70 and \\\n",
    "               cv.contourArea(cnt) <= 8000 and \\\n",
    "               cv.arcLength(cnt, True) >= 80):\n",
    "                cv.drawContours(proc_frame, [cnt], 0, (255), -1)\n",
    "        proc_frames.append(proc_frame)\n",
    "    return proc_frames"
   ]
  },
  {
   "cell_type": "code",
   "execution_count": null,
   "metadata": {},
   "outputs": [],
   "source": [
    "def centroid(frames):\n",
    "    # FUNÇÃO PARA EXTRAÇÃO DE CENTROIDE\n",
    "    # IMPLEMENTAR\n",
    "    pass"
   ]
  },
  {
   "cell_type": "code",
   "execution_count": null,
   "metadata": {},
   "outputs": [],
   "source": [
    "def ellipse(frames):\n",
    "    # FUNÇÃO PARA EXTRAÇÃO DE ELIPSE EQUIVALENTE\n",
    "    # IMPLEMENTAR\n",
    "    pass"
   ]
  },
  {
   "cell_type": "code",
   "execution_count": null,
   "metadata": {},
   "outputs": [],
   "source": [
    "def uv_plot(list_centroids):\n",
    "    # FUNÇÃO PARA PLOT DE (U, V) x T\n",
    "    # IMPLEMENTAR\n",
    "    pass"
   ]
  },
  {
   "cell_type": "code",
   "execution_count": null,
   "metadata": {},
   "outputs": [],
   "source": [
    "def theta_plot(list_ellipses):\n",
    "    # FUNÇÃO PARA PLOT DE ORIENTAÇÃO x T\n",
    "    # IMPLEMENTAR\n",
    "    pass"
   ]
  },
  {
   "cell_type": "code",
   "execution_count": null,
   "metadata": {},
   "outputs": [],
   "source": [
    "def path_plot(list_centroids):\n",
    "    # FUNÇÃO PARA PLOT DE TRAJETÓRIA NO PLANO DA IMAGEM\n",
    "    # IMPLEMENTAR\n",
    "    pass"
   ]
  },
  {
   "cell_type": "code",
   "execution_count": null,
   "metadata": {},
   "outputs": [],
   "source": [
    "def composite_plot(frames,\n",
    "                   list_centroids,\n",
    "                   list_ellipses):\n",
    "    # FUNÇÃO PARA PLOT COMPOSTO\n",
    "    # IMPLEMENTAR\n",
    "    pass"
   ]
  },
  {
   "cell_type": "code",
   "execution_count": null,
   "metadata": {},
   "outputs": [],
   "source": [
    "def write_video(frames, filename='output'):\n",
    "\n",
    "    \"\"\"Grava uma sequência de frames em um\n",
    "    arquivo de vídeo.\"\"\"\n",
    "\n",
    "    out = cv.VideoWriter('output/' + filename + '.avi',\n",
    "                         cv.VideoWriter_fourcc(*'MJPG'),\n",
    "                         30,\n",
    "                         (frames[0].shape[1], frames[0].shape[0]))\n",
    "    if len(frames[0].shape) == 2:\n",
    "        conversion = cv.COLOR_GRAY2BGR\n",
    "    else:\n",
    "        conversion = cv.COLOR_RGB2BGR\n",
    "    for frame in frames:\n",
    "        out.write(cv.cvtColor(frame, conversion))\n",
    "    out.release()"
   ]
  },
  {
   "cell_type": "code",
   "execution_count": null,
   "metadata": {},
   "outputs": [],
   "source": [
    "def full_processing(filename):\n",
    "\n",
    "    # FUNÇÃO PARCIALMENTE IMPLEMENTADA\n",
    "\n",
    "    \"\"\"Efetua todos os passos de processamento\n",
    "    em um determinado arquivo de vídeo, gerando\n",
    "    representações intermediárias e gráficos\n",
    "    do processamento.\"\"\"\n",
    "\n",
    "\n",
    "    name = filename.split('/')[-1].split('.')[0]\n",
    "    frames = extract_frames(filename)\n",
    "    gaussian_frames = gaussian_blur(frames)\n",
    "    color_seg = color_mask(gaussian_frames)\n",
    "    eroded_and_dilated = erode_and_dilate(color_seg)\n",
    "    blobbed = blob_extractor(eroded_and_dilated)\n",
    "\n",
    "    write_video(gaussian_frames, name + '-01-GaussianBlur')\n",
    "    write_video(color_seg, name + '-02-ColorSegmentation')\n",
    "    write_video(eroded_and_dilated, name + '-03-ErosionAndDilation')\n",
    "    write_video(blobbed, name + '-04-BlobExtraction')\n"
   ]
  },
  {
   "cell_type": "markdown",
   "metadata": {},
   "source": [
    "## 3 - Aplicação das funções"
   ]
  },
  {
   "cell_type": "markdown",
   "metadata": {},
   "source": [
    "### 3.1 - Vídeo 1"
   ]
  },
  {
   "cell_type": "code",
   "execution_count": null,
   "metadata": {},
   "outputs": [],
   "source": [
    "full_processing(\"images/Video1_husky.mp4\")"
   ]
  },
  {
   "cell_type": "markdown",
   "metadata": {},
   "source": [
    "### 3.2 - Vídeo 2"
   ]
  },
  {
   "cell_type": "code",
   "execution_count": null,
   "metadata": {},
   "outputs": [],
   "source": [
    "full_processing(\"images/video2_husky.mp4\")"
   ]
  }
 ],
 "metadata": {
  "kernelspec": {
   "display_name": "RVC3",
   "language": "python",
   "name": "python3"
  },
  "language_info": {
   "codemirror_mode": {
    "name": "ipython",
    "version": 3
   },
   "file_extension": ".py",
   "mimetype": "text/x-python",
   "name": "python",
   "nbconvert_exporter": "python",
   "pygments_lexer": "ipython3",
   "version": "3.10.13"
  }
 },
 "nbformat": 4,
 "nbformat_minor": 2
}
