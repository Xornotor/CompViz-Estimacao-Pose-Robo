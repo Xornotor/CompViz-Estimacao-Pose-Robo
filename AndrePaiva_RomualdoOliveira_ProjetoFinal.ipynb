{
 "cells": [
  {
   "cell_type": "markdown",
   "metadata": {},
   "source": [
    "# **Projeto Final - Estimação da Pose de um Robô Móvel**\n",
    "\n",
    "**Alunos:** André Paiva Conrado Rodrigues, Romualdo Oliveira Santos Filho\n",
    "\n",
    "**Matéria:** ENGG64 - Visão Computacional - 2023.2"
   ]
  },
  {
   "cell_type": "markdown",
   "metadata": {},
   "source": [
    "## 0 - Instruções\n",
    "\n",
    "Na mesma pasta que o arquivo deste notebook, crie uma pasta de nome `images` (com todas as letras em minúsculo) e coloque os vídeos do Husky nesta pasta.\n",
    "\n",
    "Este notebook criará automaticamente uma pasta `output` com uma subpasta para cada vídeo, a qual conterá os vídeos de subetapas de processamento e o vídeo final, bem como gráficos de posição por tempo, orientação por tempo e de trajetória sobre o plano da imagem."
   ]
  },
  {
   "cell_type": "markdown",
   "metadata": {},
   "source": [
    "## 1 - Importação de dependências e configurações"
   ]
  },
  {
   "cell_type": "code",
   "execution_count": 17,
   "metadata": {},
   "outputs": [],
   "source": [
    "import numpy as np\n",
    "import cv2 as cv\n",
    "from matplotlib import pyplot as plt\n",
    "from os import listdir, path, mkdir"
   ]
  },
  {
   "cell_type": "markdown",
   "metadata": {},
   "source": [
    "## 2 - Funções de processamento do vídeo"
   ]
  },
  {
   "cell_type": "code",
   "execution_count": 18,
   "metadata": {},
   "outputs": [],
   "source": [
    "def extract_frames(filename):\n",
    "\n",
    "    \"\"\"Extrai os frames do vídeo.\"\"\"\n",
    "    \n",
    "    frames = []\n",
    "    video_capture = cv.VideoCapture(filename)\n",
    "    while True:\n",
    "        ret, frame = video_capture.read()\n",
    "        if ret:\n",
    "            frames.append(cv.cvtColor(frame, cv.COLOR_BGR2RGB))\n",
    "        else:\n",
    "            break\n",
    "    video_capture.release()\n",
    "    return frames"
   ]
  },
  {
   "cell_type": "code",
   "execution_count": 19,
   "metadata": {},
   "outputs": [],
   "source": [
    "def gaussian_blur(frames):\n",
    "\n",
    "    \"\"\"Aplica desfoque gaussiano em uma\n",
    "    sequência de frames.\"\"\"\n",
    "    \n",
    "    proc_frames = []\n",
    "    for frame in frames:\n",
    "        proc_frame = cv.GaussianBlur(frame, (5, 5), 0)\n",
    "        proc_frames.append(proc_frame)\n",
    "    return proc_frames"
   ]
  },
  {
   "cell_type": "code",
   "execution_count": 20,
   "metadata": {},
   "outputs": [],
   "source": [
    "def color_mask(frames):\n",
    "\n",
    "    \"\"\"Segmenta elementos de uma sequência de frames com tonalidades\n",
    "    próximas do vermelho. Retorna uma imagem binária.\"\"\"\n",
    "\n",
    "    proc_frames = []\n",
    "    for frame in frames:\n",
    "        mask1 = cv.inRange(cv.cvtColor(frame, cv.COLOR_RGB2HSV), (0, 125, 40), (10, 220, 60))\n",
    "        mask2 = cv.inRange(cv.cvtColor(frame, cv.COLOR_RGB2HSV), (170, 125, 40), (180, 220, 130))\n",
    "        mask = cv.bitwise_or(mask1, mask2)\n",
    "        proc_frames.append(mask)\n",
    "    return proc_frames"
   ]
  },
  {
   "cell_type": "code",
   "execution_count": 21,
   "metadata": {},
   "outputs": [],
   "source": [
    "def erode_dilate_filter(frames):\n",
    "\n",
    "    \"\"\"Erosão e dilatação em imagem binária.\"\"\"\n",
    "\n",
    "    proc_frames = []\n",
    "    kernel_A = cv.getStructuringElement(cv.MORPH_ELLIPSE, (25, 25))\n",
    "    kernel_B = cv.getStructuringElement(cv.MORPH_ELLIPSE, (7, 7))\n",
    "    kernel_C = cv.getStructuringElement(cv.MORPH_ELLIPSE, (51, 51))\n",
    "    for frame in frames:\n",
    "        proc_frame = cv.morphologyEx(frame, cv.MORPH_CLOSE, kernel_A)\n",
    "        proc_frame = cv.morphologyEx(proc_frame, cv.MORPH_OPEN, kernel_B)\n",
    "        proc_frame = cv.morphologyEx(proc_frame, cv.MORPH_CLOSE, kernel_C)\n",
    "        proc_frames.append(proc_frame)  \n",
    "    return proc_frames"
   ]
  },
  {
   "cell_type": "code",
   "execution_count": 22,
   "metadata": {},
   "outputs": [],
   "source": [
    "def blob_extractor(frames):\n",
    "\n",
    "    \"\"\"Extrai blobs da imagem, os quais devem corresponder a limites\n",
    "    de área e perímetro estabelecidos.\"\"\"\n",
    "\n",
    "    proc_frames = []\n",
    "    for frame in frames:\n",
    "        proc_frame = np.zeros(frame.shape, dtype=np.uint8)\n",
    "        contours, hierarchy = cv.findContours(frame, cv.RETR_TREE, cv.CHAIN_APPROX_SIMPLE)\n",
    "        for i, cnt in enumerate(contours):\n",
    "            if(cv.contourArea(cnt) >= 100 and \\\n",
    "               cv.contourArea(cnt) <= 8000 and \\\n",
    "               cv.arcLength(cnt, True) >= 100):\n",
    "                cv.drawContours(proc_frame, [cnt], 0, (255), -1)\n",
    "        proc_frames.append(proc_frame)\n",
    "    return proc_frames"
   ]
  },
  {
   "cell_type": "code",
   "execution_count": 23,
   "metadata": {},
   "outputs": [],
   "source": [
    "def centroid(frames):\n",
    "    \n",
    "    \"\"\"Extrai os centroides dos blobs da imagem.\"\"\"\n",
    "\n",
    "    centroids = []\n",
    "    for frame in frames:        \n",
    "        M = cv.moments(frame)        \n",
    "        cX = int(M[\"m10\"] / M[\"m00\"])\n",
    "        cY = int(M[\"m01\"] / M[\"m00\"])\n",
    "        centroids.append([cX, cY])\n",
    "    centroids = np.array(centroids)      \n",
    "    return centroids"
   ]
  },
  {
   "cell_type": "code",
   "execution_count": 24,
   "metadata": {},
   "outputs": [],
   "source": [
    "def ellipse(frames):\n",
    "    \n",
    "    \"\"\"Extrai as elipses equivalentes dos blobs da imagem.\"\"\"\n",
    "\n",
    "    ellipses = []\n",
    "    for frame in frames:                \n",
    "        contours,hierarchy = cv.findContours(frame, cv.RETR_TREE, cv.CHAIN_APPROX_SIMPLE)        \n",
    "        cnt = contours[0]        \n",
    "        ellipse = cv.fitEllipse(cnt)\n",
    "        ellipses.append(ellipse)            \n",
    "    return ellipses"
   ]
  },
  {
   "cell_type": "code",
   "execution_count": 25,
   "metadata": {},
   "outputs": [],
   "source": [
    "def uv_plot(list_centroids):\n",
    "    \n",
    "    \"\"\"Gera gráficos de posição do centroide ao longo do tempo.\"\"\"\n",
    "\n",
    "    time_axis = np.linspace(0, list_centroids.shape[0]/30, list_centroids.shape[0])\n",
    "    fig, ax = plt.subplots()\n",
    "    ax.set_title('Centroide vs. Tempo')\n",
    "    ax.plot(time_axis, list_centroids[:, 0], color='red', label='u')\n",
    "    ax.plot(time_axis, list_centroids[:, 1], color='green', label='v')\n",
    "    ax.set_xlabel('Segundos')\n",
    "    ax.set_ylabel('Pixels')\n",
    "    ax.legend()\n",
    "    return fig"
   ]
  },
  {
   "cell_type": "code",
   "execution_count": 26,
   "metadata": {},
   "outputs": [],
   "source": [
    "def theta_plot(list_ellipses):\n",
    "\n",
    "     \"\"\"Gera gráficos de ângulo do elipse equivalente ao longo do tempo.\"\"\"\n",
    "\n",
    "     time_axis = np.linspace(0, len(list_ellipses)/30, len(list_ellipses))\n",
    "     angulos = [i[2] for i in list_ellipses]\n",
    "     fig, ax = plt.subplots()\n",
    "     ax.set_title('Ângulo vs. Tempo')\n",
    "     ax.plot(time_axis, angulos, color='orange')\n",
    "     ax.set_xlabel('Segundos')\n",
    "     ax.set_ylabel('Graus')\n",
    "     return fig"
   ]
  },
  {
   "cell_type": "code",
   "execution_count": 27,
   "metadata": {},
   "outputs": [],
   "source": [
    "def path_plot(frame, list_centroids):\n",
    "    \n",
    "    \"\"\"Gera gráfico de trajetória sobre o plano da imagem.\"\"\"\n",
    "\n",
    "    fig, ax = plt.subplots()\n",
    "    ax.set_title('Trajetória')\n",
    "    ax.invert_yaxis()\n",
    "    ax.imshow(frame)\n",
    "    ax.plot(list_centroids[:, 0], list_centroids[:, 1], color='red')\n",
    "    ax.set_xlabel('u')\n",
    "    ax.set_ylabel('v')\n",
    "    return fig"
   ]
  },
  {
   "cell_type": "code",
   "execution_count": 28,
   "metadata": {},
   "outputs": [],
   "source": [
    "def composite_plot(frames,\n",
    "                   list_centroids,\n",
    "                   list_ellipses):\n",
    "    \n",
    "    \"\"\"Plota centroide, elipse equivalente e trajetória a cada frame.\"\"\"\n",
    "    \n",
    "    assert len(frames) == len(list_centroids)\n",
    "    assert len(frames) == len(list_ellipses)\n",
    "    pts = list_centroids.reshape((-1, 1, 2))\n",
    "    proc_frames = []\n",
    "    for i in range(len(frames)):\n",
    "        proc_frame = cv.circle(frames[i], list_centroids[i], 2, (255, 255, 0), -1)\n",
    "        proc_frame = cv.polylines(proc_frame, [pts[:i]], False, (0, 255, 255), 2)\n",
    "        proc_frame = cv.ellipse(proc_frame, list_ellipses[i], (255, 255, 0), 1)\n",
    "        proc_frames.append(proc_frame)\n",
    "    return proc_frames"
   ]
  },
  {
   "cell_type": "code",
   "execution_count": 29,
   "metadata": {},
   "outputs": [],
   "source": [
    "def write_video(frames, dirname, filename='output'):\n",
    "\n",
    "    \"\"\"Grava uma sequência de frames em um\n",
    "    arquivo de vídeo.\"\"\"\n",
    "\n",
    "    out = cv.VideoWriter('output/' + dirname + '/' + filename + '.avi',\n",
    "                         cv.VideoWriter_fourcc(*'MJPG'),\n",
    "                         30,\n",
    "                         (frames[0].shape[1], frames[0].shape[0]))\n",
    "    if len(frames[0].shape) == 2:\n",
    "        conversion = cv.COLOR_GRAY2BGR\n",
    "    else:\n",
    "        conversion = cv.COLOR_RGB2BGR\n",
    "    for frame in frames:\n",
    "        out.write(cv.cvtColor(frame, conversion))\n",
    "    out.release()"
   ]
  },
  {
   "cell_type": "code",
   "execution_count": 30,
   "metadata": {},
   "outputs": [],
   "source": [
    "def write_plot(fig, dirname, filename='output'):\n",
    "\n",
    "    \"\"\"Grava plot matplotlib em arquivo PNG.\"\"\"\n",
    "    \n",
    "    fig.savefig('output/' + dirname + '/' + filename + '.png', dpi=200)\n",
    "    plt.close(fig)"
   ]
  },
  {
   "cell_type": "code",
   "execution_count": 31,
   "metadata": {},
   "outputs": [],
   "source": [
    "def full_processing(filename):\n",
    "\n",
    "    \"\"\"Efetua todos os passos de processamento\n",
    "    em um determinado arquivo de vídeo, gerando\n",
    "    representações intermediárias e gráficos\n",
    "    do processamento.\"\"\"\n",
    "\n",
    "    name = filename.split('/')[-1].split('.')[0]\n",
    "\n",
    "    if not path.isdir('output'):\n",
    "        mkdir('output')\n",
    "    if not path.isdir('output/' + name):\n",
    "        mkdir('output/' + name)\n",
    "\n",
    "    frames = extract_frames(filename)\n",
    "    gaussian_frames = gaussian_blur(frames)\n",
    "    color_seg = color_mask(gaussian_frames)\n",
    "    eroded_and_dilated = erode_dilate_filter(color_seg)\n",
    "    blobbed = blob_extractor(eroded_and_dilated)\n",
    "    centroids = centroid(blobbed)\n",
    "    ellipses = ellipse(blobbed)\n",
    "    composite = composite_plot(frames, centroids, ellipses)\n",
    "    fig_uv = uv_plot(centroids)\n",
    "    fig_theta = theta_plot(ellipses)\n",
    "    fig_path = path_plot(frames[0], centroids)\n",
    "    \n",
    "    write_plot(fig_uv, name, name + '-uvplot')\n",
    "    write_plot(fig_theta, name, name + '-thetaplot')\n",
    "    write_plot(fig_path, name, name + '-pathplot')\n",
    "\n",
    "    write_video(gaussian_frames, name, name + '-01-GaussianBlur')\n",
    "    write_video(color_seg, name, name + '-02-ColorSegmentation')\n",
    "    write_video(eroded_and_dilated, name, name + '-03-ErosionAndDilation')\n",
    "    write_video(blobbed, name, name + '-04-BlobExtraction'),\n",
    "    write_video(composite, name, name + '-Final')"
   ]
  },
  {
   "cell_type": "markdown",
   "metadata": {},
   "source": [
    "## 3 - Aplicação das funções"
   ]
  },
  {
   "cell_type": "code",
   "execution_count": 32,
   "metadata": {},
   "outputs": [],
   "source": [
    "for filename in listdir('images'):\n",
    "    full_processing(\"images/\" + filename)"
   ]
  }
 ],
 "metadata": {
  "kernelspec": {
   "display_name": "RVC3",
   "language": "python",
   "name": "python3"
  },
  "language_info": {
   "codemirror_mode": {
    "name": "ipython",
    "version": 3
   },
   "file_extension": ".py",
   "mimetype": "text/x-python",
   "name": "python",
   "nbconvert_exporter": "python",
   "pygments_lexer": "ipython3",
   "version": "3.10.13"
  }
 },
 "nbformat": 4,
 "nbformat_minor": 2
}
